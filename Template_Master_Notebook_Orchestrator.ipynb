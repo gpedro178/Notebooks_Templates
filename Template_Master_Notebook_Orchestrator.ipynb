{
 "cells": [
  {
   "cell_type": "markdown",
   "metadata": {
    "application/vnd.databricks.v1+cell": {
     "cellMetadata": {
      "byteLimit": 2048000,
      "rowLimit": 10000
     },
     "inputWidgets": {},
     "nuid": "c594dbd3-2bdf-491c-b781-140c6d20f620",
     "showTitle": false,
     "tableResultSettingsMap": {},
     "title": ""
    }
   },
   "source": [
    "# Master Notebook  \n",
    "This master notebook will run every notebook in the selected folder, to do this, each notebook should be in the list \"nb_list\""
   ]
  },
  {
   "cell_type": "code",
   "execution_count": 0,
   "metadata": {
    "application/vnd.databricks.v1+cell": {
     "cellMetadata": {
      "byteLimit": 2048000,
      "rowLimit": 10000
     },
     "inputWidgets": {},
     "nuid": "b59e6108-100f-4091-9095-8b23dc633d75",
     "showTitle": false,
     "tableResultSettingsMap": {},
     "title": ""
    }
   },
   "outputs": [],
   "source": [
    "# Master notebook\n",
    "\n",
    "# List of notebooks to run\n",
    "nb_list = [\n",
    "    \"/Workspace/Users/username@something.com/folderName/NotebookName_1\",\n",
    "    \"/Workspace/Users/username@something.com/folderName/NotebookName_2\",\n",
    "    \"/Workspace/Users/username@something.com/folderName/NotebookName_3\"\n",
    "]\n",
    "\n",
    "# FOR IN loop to go through the list of notebooks\n",
    "for i in nb_list:\n",
    "    try:\n",
    "        # Run notebook \"i\"\n",
    "        result = dbutils.notebook.run(i, 0) # 0 means no timeout limit\n",
    "        # print(result)\n",
    "    except Exception as e:\n",
    "        print(f\"Error running {i}: {e}\")\n",
    "\n",
    "print(\"Notebook workflow completed!\")"
   ]
  }
 ],
 "metadata": {
  "application/vnd.databricks.v1+notebook": {
   "computePreferences": null,
   "dashboards": [],
   "environmentMetadata": {
    "base_environment": "",
    "client": "1"
   },
   "language": "python",
   "notebookMetadata": {
    "pythonIndentUnit": 4
   },
   "notebookName": "Template_Master_Notebook_Orchestrator",
   "widgets": {}
  },
  "language_info": {
   "name": "python"
  }
 },
 "nbformat": 4,
 "nbformat_minor": 0
}